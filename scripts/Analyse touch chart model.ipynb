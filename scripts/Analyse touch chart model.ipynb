{
 "cells": [
  {
   "cell_type": "markdown",
   "id": "ab7f33f3",
   "metadata": {},
   "source": [
    "# Analyse touch chart model after training"
   ]
  },
  {
   "cell_type": "markdown",
   "id": "7378f6a6",
   "metadata": {},
   "source": [
    "In this notebook, I analyse the touch chart model after training. The goal is to visualise the predicted mesh and ground truth mesh given a collected tactile image and corresponding point cloud."
   ]
  },
  {
   "cell_type": "code",
   "execution_count": 14,
   "id": "920108e9",
   "metadata": {},
   "outputs": [],
   "source": [
    "import numpy as np\n",
    "import torch\n",
    "from data_making.dataset_touch import TouchChartDataset\n",
    "import os\n",
    "import results\n",
    "from results import runs_touch\n",
    "from model import model_touch\n",
    "from utils import utils_mesh\n",
    "import data\n",
    "import trimesh\n",
    "import matplotlib.pyplot as plt\n",
    "%matplotlib qt\n",
    "\n",
    "device = torch.device(\"cuda\" if torch.cuda.is_available() else \"cpu\")"
   ]
  },
  {
   "cell_type": "markdown",
   "id": "6215f645",
   "metadata": {},
   "source": [
    "Import dataset:"
   ]
  },
  {
   "cell_type": "code",
   "execution_count": 15,
   "id": "114b8e1e",
   "metadata": {},
   "outputs": [],
   "source": [
    "touch_chart_path = os.path.join(os.path.dirname(results.__file__), 'touch_charts_gt.npy')\n",
    "dataset = TouchChartDataset(touch_chart_path)"
   ]
  },
  {
   "cell_type": "markdown",
   "id": "694394d5",
   "metadata": {},
   "source": [
    "Load default touch chart needed for prediction:"
   ]
  },
  {
   "cell_type": "code",
   "execution_count": 16,
   "id": "05511647",
   "metadata": {},
   "outputs": [],
   "source": [
    "chart_location = os.path.join(os.path.dirname(data.__file__), 'touch_chart.obj')\n",
    "initial_verts, initial_faces = utils_mesh.load_mesh_touch(chart_location)\n",
    "initial_verts = torch.unsqueeze(initial_verts, 0)"
   ]
  },
  {
   "cell_type": "markdown",
   "id": "7a790c25",
   "metadata": {},
   "source": [
    "Load model and weights:"
   ]
  },
  {
   "cell_type": "code",
   "execution_count": 17,
   "id": "5841eaae",
   "metadata": {},
   "outputs": [],
   "source": [
    "runs_touch_name = '14_02_1521'"
   ]
  },
  {
   "cell_type": "code",
   "execution_count": 18,
   "id": "b50cf2a8",
   "metadata": {},
   "outputs": [
    {
     "data": {
      "text/plain": [
       "Encoder(\n",
       "  (CNN_layers): Sequential(\n",
       "    (0): DoubleConv(\n",
       "      (double_conv): Sequential(\n",
       "        (0): Conv2d(1, 32, kernel_size=(5, 5), stride=(2, 2), padding=(2, 2))\n",
       "        (1): BatchNorm2d(32, eps=1e-05, momentum=0.1, affine=True, track_running_stats=True)\n",
       "        (2): ReLU(inplace=True)\n",
       "        (3): Conv2d(32, 32, kernel_size=(5, 5), stride=(2, 2), padding=(2, 2))\n",
       "        (4): BatchNorm2d(32, eps=1e-05, momentum=0.1, affine=True, track_running_stats=True)\n",
       "        (5): ReLU(inplace=True)\n",
       "        (6): Conv2d(32, 32, kernel_size=(5, 5), stride=(1, 1), padding=(2, 2))\n",
       "      )\n",
       "      (activation): Sequential(\n",
       "        (0): BatchNorm2d(32, eps=1e-05, momentum=0.1, affine=True, track_running_stats=True)\n",
       "        (1): ReLU(inplace=True)\n",
       "      )\n",
       "    )\n",
       "    (1): DoubleConv(\n",
       "      (double_conv): Sequential(\n",
       "        (0): Conv2d(32, 16, kernel_size=(5, 5), stride=(2, 2), padding=(2, 2))\n",
       "        (1): BatchNorm2d(16, eps=1e-05, momentum=0.1, affine=True, track_running_stats=True)\n",
       "        (2): ReLU(inplace=True)\n",
       "        (3): Conv2d(16, 16, kernel_size=(5, 5), stride=(2, 2), padding=(2, 2))\n",
       "        (4): BatchNorm2d(16, eps=1e-05, momentum=0.1, affine=True, track_running_stats=True)\n",
       "        (5): ReLU(inplace=True)\n",
       "        (6): Conv2d(16, 16, kernel_size=(5, 5), stride=(1, 1), padding=(2, 2))\n",
       "      )\n",
       "      (activation): Sequential(\n",
       "        (0): BatchNorm2d(16, eps=1e-05, momentum=0.1, affine=True, track_running_stats=True)\n",
       "        (1): ReLU(inplace=True)\n",
       "      )\n",
       "    )\n",
       "    (2): DoubleConv(\n",
       "      (double_conv): Sequential(\n",
       "        (0): Conv2d(16, 32, kernel_size=(5, 5), stride=(2, 2), padding=(2, 2))\n",
       "        (1): BatchNorm2d(32, eps=1e-05, momentum=0.1, affine=True, track_running_stats=True)\n",
       "        (2): ReLU(inplace=True)\n",
       "        (3): Conv2d(32, 32, kernel_size=(5, 5), stride=(2, 2), padding=(2, 2))\n",
       "        (4): BatchNorm2d(32, eps=1e-05, momentum=0.1, affine=True, track_running_stats=True)\n",
       "        (5): ReLU(inplace=True)\n",
       "        (6): Conv2d(32, 32, kernel_size=(5, 5), stride=(1, 1), padding=(2, 2))\n",
       "      )\n",
       "      (activation): Sequential(\n",
       "        (0): BatchNorm2d(32, eps=1e-05, momentum=0.1, affine=True, track_running_stats=True)\n",
       "        (1): ReLU(inplace=True)\n",
       "      )\n",
       "    )\n",
       "  )\n",
       "  (FC_layers): Sequential(\n",
       "    (0): Sequential(\n",
       "      (0): Linear(in_features=512, out_features=256, bias=True)\n",
       "      (1): ReLU()\n",
       "    )\n",
       "    (1): Sequential(\n",
       "      (0): Linear(in_features=256, out_features=128, bias=True)\n",
       "      (1): ReLU()\n",
       "    )\n",
       "    (2): Sequential(\n",
       "      (0): Linear(in_features=128, out_features=75, bias=True)\n",
       "    )\n",
       "  )\n",
       ")"
      ]
     },
     "execution_count": 18,
     "metadata": {},
     "output_type": "execute_result"
    }
   ],
   "source": [
    "modello = model_touch.Encoder()\n",
    "\n",
    "# load weights\n",
    "weights_path = os.path.join(os.path.dirname(runs_touch.__file__), runs_touch_name, 'weights.pt')\n",
    "modello.load_state_dict(torch.load(weights_path, map_location=torch.device(device)))\n",
    "modello.eval()"
   ]
  },
  {
   "cell_type": "markdown",
   "id": "92f8958e",
   "metadata": {},
   "source": [
    "Now, I sample a random tactile image and corresponding point cloud. "
   ]
  },
  {
   "cell_type": "code",
   "execution_count": 19,
   "id": "8faa6d37",
   "metadata": {},
   "outputs": [
    {
     "name": "stderr",
     "output_type": "stream",
     "text": [
      "/var/folders/yl/kyjv_cpj1j70_ry0q6699fbh0000gq/T/ipykernel_78498/2126722906.py:17: RuntimeWarning: More than 20 figures have been opened. Figures created through the pyplot interface (`matplotlib.pyplot.figure`) are retained until explicitly closed and may consume too much memory. (To control this warning, see the rcParam `figure.max_open_warning`).\n",
      "  fig = plt.figure(figsize=(10, 10))\n"
     ]
    }
   ],
   "source": [
    "for val_sample_index in range(len(dataset)):\n",
    "    with torch.no_grad():\n",
    "        # Load x and y\n",
    "        tactile_img, pointcloud_gt = dataset[val_sample_index][0], dataset[val_sample_index][1]\n",
    "\n",
    "        # Adjust dimensions of x and y\n",
    "        tactile_img = torch.unsqueeze(tactile_img, 0)\n",
    "\n",
    "        # predict verts\n",
    "        predicted_verts = modello(tactile_img, initial_verts)[0]\n",
    "\n",
    "        # predicted mesh\n",
    "        predicted_mesh = trimesh.Trimesh(predicted_verts, initial_faces)\n",
    "        predicted_pointcloud = utils_mesh.mesh_to_pointcloud(predicted_mesh, 500)\n",
    "\n",
    "        # plot point cloud gt and predicted point cloud\n",
    "        fig = plt.figure(figsize=(10, 10))\n",
    "        ax = fig.add_subplot(1, 1, 1, projection='3d')\n",
    "        x1 = predicted_pointcloud[:, 0]\n",
    "        y1 = predicted_pointcloud[:, 1]\n",
    "        z1 = predicted_pointcloud[:, 2]\n",
    "\n",
    "        x2 = pointcloud_gt[:, 0]\n",
    "        y2 = pointcloud_gt[:, 1]\n",
    "        z2 = pointcloud_gt[:, 2] \n",
    "\n",
    "        ax.scatter(x1, y1, z1)\n",
    "        ax.scatter(x2, y2, z2)\n",
    "\n",
    "        plt.show()"
   ]
  },
  {
   "cell_type": "code",
   "execution_count": null,
   "id": "317efe1f",
   "metadata": {},
   "outputs": [],
   "source": []
  }
 ],
 "metadata": {
  "kernelspec": {
   "display_name": "Python 3 (ipykernel)",
   "language": "python",
   "name": "python3"
  },
  "language_info": {
   "codemirror_mode": {
    "name": "ipython",
    "version": 3
   },
   "file_extension": ".py",
   "mimetype": "text/x-python",
   "name": "python",
   "nbconvert_exporter": "python",
   "pygments_lexer": "ipython3",
   "version": "3.8.13"
  }
 },
 "nbformat": 4,
 "nbformat_minor": 5
}
